{
 "cells": [
  {
   "cell_type": "markdown",
   "metadata": {},
   "source": [
    "Kütüphaneler"
   ]
  },
  {
   "cell_type": "code",
   "execution_count": 1,
   "metadata": {},
   "outputs": [
    {
     "name": "stdout",
     "output_type": "stream",
     "text": [
      "WARNING:tensorflow:From c:\\Users\\pc\\AppData\\Local\\Programs\\Python\\Python39\\lib\\site-packages\\keras\\src\\losses.py:2976: The name tf.losses.sparse_softmax_cross_entropy is deprecated. Please use tf.compat.v1.losses.sparse_softmax_cross_entropy instead.\n",
      "\n"
     ]
    }
   ],
   "source": [
    "import matplotlib.pyplot as plt \n",
    "import pandas as pd \n",
    "from sklearn.preprocessing import MinMaxScaler\n",
    "from keras.models import Sequential\n",
    "from keras.layers import Dense,Dropout\n",
    "import tensorflow.compat.v1 as tf\n",
    "from keras.utils import plot_model\n",
    "from PIL import Image\n",
    "from sklearn.metrics import accuracy_score, confusion_matrix, classification_report\n",
    "from sklearn.preprocessing import StandardScaler\n",
    "from sklearn.svm import SVC\n",
    "from sklearn.neighbors import KNeighborsClassifier\n",
    "from sklearn.model_selection import train_test_split, cross_val_score\n",
    "import seaborn as sns"
   ]
  },
  {
   "cell_type": "markdown",
   "metadata": {},
   "source": [
    "veri toplama"
   ]
  },
  {
   "cell_type": "code",
   "execution_count": 2,
   "metadata": {},
   "outputs": [
    {
     "name": "stdout",
     "output_type": "stream",
     "text": [
      "<class 'pandas.core.frame.DataFrame'>\n",
      "RangeIndex: 7999 entries, 0 to 7998\n",
      "Data columns (total 21 columns):\n",
      " #   Column       Non-Null Count  Dtype  \n",
      "---  ------       --------------  -----  \n",
      " 0   aluminium    7999 non-null   float64\n",
      " 1   ammonia      7999 non-null   object \n",
      " 2   arsenic      7999 non-null   float64\n",
      " 3   barium       7999 non-null   float64\n",
      " 4   cadmium      7999 non-null   float64\n",
      " 5   chloramine   7999 non-null   float64\n",
      " 6   chromium     7999 non-null   float64\n",
      " 7   copper       7999 non-null   float64\n",
      " 8   flouride     7999 non-null   float64\n",
      " 9   bacteria     7999 non-null   float64\n",
      " 10  viruses      7999 non-null   float64\n",
      " 11  lead         7999 non-null   float64\n",
      " 12  nitrates     7999 non-null   float64\n",
      " 13  nitrites     7999 non-null   float64\n",
      " 14  mercury      7999 non-null   float64\n",
      " 15  perchlorate  7999 non-null   float64\n",
      " 16  radium       7999 non-null   float64\n",
      " 17  selenium     7999 non-null   float64\n",
      " 18  silver       7999 non-null   float64\n",
      " 19  uranium      7999 non-null   float64\n",
      " 20  is_safe      7999 non-null   object \n",
      "dtypes: float64(19), object(2)\n",
      "memory usage: 1.3+ MB\n"
     ]
    },
    {
     "data": {
      "text/html": [
       "<div>\n",
       "<style scoped>\n",
       "    .dataframe tbody tr th:only-of-type {\n",
       "        vertical-align: middle;\n",
       "    }\n",
       "\n",
       "    .dataframe tbody tr th {\n",
       "        vertical-align: top;\n",
       "    }\n",
       "\n",
       "    .dataframe thead th {\n",
       "        text-align: right;\n",
       "    }\n",
       "</style>\n",
       "<table border=\"1\" class=\"dataframe\">\n",
       "  <thead>\n",
       "    <tr style=\"text-align: right;\">\n",
       "      <th></th>\n",
       "      <th>aluminium</th>\n",
       "      <th>ammonia</th>\n",
       "      <th>arsenic</th>\n",
       "      <th>barium</th>\n",
       "      <th>cadmium</th>\n",
       "      <th>chloramine</th>\n",
       "      <th>chromium</th>\n",
       "      <th>copper</th>\n",
       "      <th>flouride</th>\n",
       "      <th>bacteria</th>\n",
       "      <th>...</th>\n",
       "      <th>lead</th>\n",
       "      <th>nitrates</th>\n",
       "      <th>nitrites</th>\n",
       "      <th>mercury</th>\n",
       "      <th>perchlorate</th>\n",
       "      <th>radium</th>\n",
       "      <th>selenium</th>\n",
       "      <th>silver</th>\n",
       "      <th>uranium</th>\n",
       "      <th>is_safe</th>\n",
       "    </tr>\n",
       "  </thead>\n",
       "  <tbody>\n",
       "    <tr>\n",
       "      <th>0</th>\n",
       "      <td>1.65</td>\n",
       "      <td>9.08</td>\n",
       "      <td>0.04</td>\n",
       "      <td>2.85</td>\n",
       "      <td>0.007</td>\n",
       "      <td>0.35</td>\n",
       "      <td>0.83</td>\n",
       "      <td>0.17</td>\n",
       "      <td>0.05</td>\n",
       "      <td>0.20</td>\n",
       "      <td>...</td>\n",
       "      <td>0.054</td>\n",
       "      <td>16.08</td>\n",
       "      <td>1.13</td>\n",
       "      <td>0.007</td>\n",
       "      <td>37.75</td>\n",
       "      <td>6.78</td>\n",
       "      <td>0.08</td>\n",
       "      <td>0.34</td>\n",
       "      <td>0.02</td>\n",
       "      <td>1</td>\n",
       "    </tr>\n",
       "    <tr>\n",
       "      <th>1</th>\n",
       "      <td>2.32</td>\n",
       "      <td>21.16</td>\n",
       "      <td>0.01</td>\n",
       "      <td>3.31</td>\n",
       "      <td>0.002</td>\n",
       "      <td>5.28</td>\n",
       "      <td>0.68</td>\n",
       "      <td>0.66</td>\n",
       "      <td>0.90</td>\n",
       "      <td>0.65</td>\n",
       "      <td>...</td>\n",
       "      <td>0.100</td>\n",
       "      <td>2.01</td>\n",
       "      <td>1.93</td>\n",
       "      <td>0.003</td>\n",
       "      <td>32.26</td>\n",
       "      <td>3.21</td>\n",
       "      <td>0.08</td>\n",
       "      <td>0.27</td>\n",
       "      <td>0.05</td>\n",
       "      <td>1</td>\n",
       "    </tr>\n",
       "    <tr>\n",
       "      <th>2</th>\n",
       "      <td>1.01</td>\n",
       "      <td>14.02</td>\n",
       "      <td>0.04</td>\n",
       "      <td>0.58</td>\n",
       "      <td>0.008</td>\n",
       "      <td>4.24</td>\n",
       "      <td>0.53</td>\n",
       "      <td>0.02</td>\n",
       "      <td>0.99</td>\n",
       "      <td>0.05</td>\n",
       "      <td>...</td>\n",
       "      <td>0.078</td>\n",
       "      <td>14.16</td>\n",
       "      <td>1.11</td>\n",
       "      <td>0.006</td>\n",
       "      <td>50.28</td>\n",
       "      <td>7.07</td>\n",
       "      <td>0.07</td>\n",
       "      <td>0.44</td>\n",
       "      <td>0.01</td>\n",
       "      <td>0</td>\n",
       "    </tr>\n",
       "    <tr>\n",
       "      <th>3</th>\n",
       "      <td>1.36</td>\n",
       "      <td>11.33</td>\n",
       "      <td>0.04</td>\n",
       "      <td>2.96</td>\n",
       "      <td>0.001</td>\n",
       "      <td>7.23</td>\n",
       "      <td>0.03</td>\n",
       "      <td>1.66</td>\n",
       "      <td>1.08</td>\n",
       "      <td>0.71</td>\n",
       "      <td>...</td>\n",
       "      <td>0.016</td>\n",
       "      <td>1.41</td>\n",
       "      <td>1.29</td>\n",
       "      <td>0.004</td>\n",
       "      <td>9.12</td>\n",
       "      <td>1.72</td>\n",
       "      <td>0.02</td>\n",
       "      <td>0.45</td>\n",
       "      <td>0.05</td>\n",
       "      <td>1</td>\n",
       "    </tr>\n",
       "    <tr>\n",
       "      <th>4</th>\n",
       "      <td>0.92</td>\n",
       "      <td>24.33</td>\n",
       "      <td>0.03</td>\n",
       "      <td>0.20</td>\n",
       "      <td>0.006</td>\n",
       "      <td>2.67</td>\n",
       "      <td>0.69</td>\n",
       "      <td>0.57</td>\n",
       "      <td>0.61</td>\n",
       "      <td>0.13</td>\n",
       "      <td>...</td>\n",
       "      <td>0.117</td>\n",
       "      <td>6.74</td>\n",
       "      <td>1.11</td>\n",
       "      <td>0.003</td>\n",
       "      <td>16.90</td>\n",
       "      <td>2.41</td>\n",
       "      <td>0.02</td>\n",
       "      <td>0.06</td>\n",
       "      <td>0.02</td>\n",
       "      <td>1</td>\n",
       "    </tr>\n",
       "    <tr>\n",
       "      <th>5</th>\n",
       "      <td>0.94</td>\n",
       "      <td>14.47</td>\n",
       "      <td>0.03</td>\n",
       "      <td>2.88</td>\n",
       "      <td>0.003</td>\n",
       "      <td>0.80</td>\n",
       "      <td>0.43</td>\n",
       "      <td>1.38</td>\n",
       "      <td>0.11</td>\n",
       "      <td>0.67</td>\n",
       "      <td>...</td>\n",
       "      <td>0.135</td>\n",
       "      <td>9.75</td>\n",
       "      <td>1.89</td>\n",
       "      <td>0.006</td>\n",
       "      <td>27.17</td>\n",
       "      <td>5.42</td>\n",
       "      <td>0.08</td>\n",
       "      <td>0.19</td>\n",
       "      <td>0.02</td>\n",
       "      <td>1</td>\n",
       "    </tr>\n",
       "    <tr>\n",
       "      <th>6</th>\n",
       "      <td>2.36</td>\n",
       "      <td>5.6</td>\n",
       "      <td>0.01</td>\n",
       "      <td>1.35</td>\n",
       "      <td>0.004</td>\n",
       "      <td>1.28</td>\n",
       "      <td>0.62</td>\n",
       "      <td>1.88</td>\n",
       "      <td>0.33</td>\n",
       "      <td>0.13</td>\n",
       "      <td>...</td>\n",
       "      <td>0.021</td>\n",
       "      <td>18.60</td>\n",
       "      <td>1.78</td>\n",
       "      <td>0.007</td>\n",
       "      <td>45.34</td>\n",
       "      <td>2.84</td>\n",
       "      <td>0.10</td>\n",
       "      <td>0.24</td>\n",
       "      <td>0.08</td>\n",
       "      <td>0</td>\n",
       "    </tr>\n",
       "    <tr>\n",
       "      <th>7</th>\n",
       "      <td>3.93</td>\n",
       "      <td>19.87</td>\n",
       "      <td>0.04</td>\n",
       "      <td>0.66</td>\n",
       "      <td>0.001</td>\n",
       "      <td>6.22</td>\n",
       "      <td>0.10</td>\n",
       "      <td>1.86</td>\n",
       "      <td>0.86</td>\n",
       "      <td>0.16</td>\n",
       "      <td>...</td>\n",
       "      <td>0.197</td>\n",
       "      <td>13.65</td>\n",
       "      <td>1.81</td>\n",
       "      <td>0.001</td>\n",
       "      <td>53.35</td>\n",
       "      <td>7.24</td>\n",
       "      <td>0.08</td>\n",
       "      <td>0.08</td>\n",
       "      <td>0.07</td>\n",
       "      <td>0</td>\n",
       "    </tr>\n",
       "    <tr>\n",
       "      <th>8</th>\n",
       "      <td>0.60</td>\n",
       "      <td>24.58</td>\n",
       "      <td>0.01</td>\n",
       "      <td>0.71</td>\n",
       "      <td>0.005</td>\n",
       "      <td>3.14</td>\n",
       "      <td>0.77</td>\n",
       "      <td>1.45</td>\n",
       "      <td>0.98</td>\n",
       "      <td>0.35</td>\n",
       "      <td>...</td>\n",
       "      <td>0.167</td>\n",
       "      <td>14.66</td>\n",
       "      <td>1.84</td>\n",
       "      <td>0.004</td>\n",
       "      <td>23.43</td>\n",
       "      <td>4.99</td>\n",
       "      <td>0.08</td>\n",
       "      <td>0.25</td>\n",
       "      <td>0.08</td>\n",
       "      <td>1</td>\n",
       "    </tr>\n",
       "    <tr>\n",
       "      <th>9</th>\n",
       "      <td>0.22</td>\n",
       "      <td>16.76</td>\n",
       "      <td>0.02</td>\n",
       "      <td>1.37</td>\n",
       "      <td>0.007</td>\n",
       "      <td>6.40</td>\n",
       "      <td>0.49</td>\n",
       "      <td>0.82</td>\n",
       "      <td>1.24</td>\n",
       "      <td>0.83</td>\n",
       "      <td>...</td>\n",
       "      <td>0.109</td>\n",
       "      <td>4.79</td>\n",
       "      <td>1.46</td>\n",
       "      <td>0.010</td>\n",
       "      <td>30.42</td>\n",
       "      <td>0.08</td>\n",
       "      <td>0.03</td>\n",
       "      <td>0.31</td>\n",
       "      <td>0.01</td>\n",
       "      <td>1</td>\n",
       "    </tr>\n",
       "  </tbody>\n",
       "</table>\n",
       "<p>10 rows × 21 columns</p>\n",
       "</div>"
      ],
      "text/plain": [
       "   aluminium ammonia  arsenic  barium  cadmium  chloramine  chromium  copper  \\\n",
       "0       1.65    9.08     0.04    2.85    0.007        0.35      0.83    0.17   \n",
       "1       2.32   21.16     0.01    3.31    0.002        5.28      0.68    0.66   \n",
       "2       1.01   14.02     0.04    0.58    0.008        4.24      0.53    0.02   \n",
       "3       1.36   11.33     0.04    2.96    0.001        7.23      0.03    1.66   \n",
       "4       0.92   24.33     0.03    0.20    0.006        2.67      0.69    0.57   \n",
       "5       0.94   14.47     0.03    2.88    0.003        0.80      0.43    1.38   \n",
       "6       2.36     5.6     0.01    1.35    0.004        1.28      0.62    1.88   \n",
       "7       3.93   19.87     0.04    0.66    0.001        6.22      0.10    1.86   \n",
       "8       0.60   24.58     0.01    0.71    0.005        3.14      0.77    1.45   \n",
       "9       0.22   16.76     0.02    1.37    0.007        6.40      0.49    0.82   \n",
       "\n",
       "   flouride  bacteria  ...   lead  nitrates  nitrites  mercury  perchlorate  \\\n",
       "0      0.05      0.20  ...  0.054     16.08      1.13    0.007        37.75   \n",
       "1      0.90      0.65  ...  0.100      2.01      1.93    0.003        32.26   \n",
       "2      0.99      0.05  ...  0.078     14.16      1.11    0.006        50.28   \n",
       "3      1.08      0.71  ...  0.016      1.41      1.29    0.004         9.12   \n",
       "4      0.61      0.13  ...  0.117      6.74      1.11    0.003        16.90   \n",
       "5      0.11      0.67  ...  0.135      9.75      1.89    0.006        27.17   \n",
       "6      0.33      0.13  ...  0.021     18.60      1.78    0.007        45.34   \n",
       "7      0.86      0.16  ...  0.197     13.65      1.81    0.001        53.35   \n",
       "8      0.98      0.35  ...  0.167     14.66      1.84    0.004        23.43   \n",
       "9      1.24      0.83  ...  0.109      4.79      1.46    0.010        30.42   \n",
       "\n",
       "   radium  selenium  silver  uranium  is_safe  \n",
       "0    6.78      0.08    0.34     0.02        1  \n",
       "1    3.21      0.08    0.27     0.05        1  \n",
       "2    7.07      0.07    0.44     0.01        0  \n",
       "3    1.72      0.02    0.45     0.05        1  \n",
       "4    2.41      0.02    0.06     0.02        1  \n",
       "5    5.42      0.08    0.19     0.02        1  \n",
       "6    2.84      0.10    0.24     0.08        0  \n",
       "7    7.24      0.08    0.08     0.07        0  \n",
       "8    4.99      0.08    0.25     0.08        1  \n",
       "9    0.08      0.03    0.31     0.01        1  \n",
       "\n",
       "[10 rows x 21 columns]"
      ]
     },
     "execution_count": 2,
     "metadata": {},
     "output_type": "execute_result"
    }
   ],
   "source": [
    "df = pd.read_csv('waterQuality1.csv')\n",
    "df.info()\n",
    "df.head(10)"
   ]
  },
  {
   "cell_type": "code",
   "execution_count": 3,
   "metadata": {},
   "outputs": [
    {
     "data": {
      "text/plain": [
       "aluminium      0\n",
       "ammonia        0\n",
       "arsenic        0\n",
       "barium         0\n",
       "cadmium        0\n",
       "chloramine     0\n",
       "chromium       0\n",
       "copper         0\n",
       "flouride       0\n",
       "bacteria       0\n",
       "viruses        0\n",
       "lead           0\n",
       "nitrates       0\n",
       "nitrites       0\n",
       "mercury        0\n",
       "perchlorate    0\n",
       "radium         0\n",
       "selenium       0\n",
       "silver         0\n",
       "uranium        0\n",
       "is_safe        0\n",
       "dtype: int64"
      ]
     },
     "execution_count": 3,
     "metadata": {},
     "output_type": "execute_result"
    }
   ],
   "source": [
    "df.isnull().sum()"
   ]
  },
  {
   "cell_type": "code",
   "execution_count": 4,
   "metadata": {},
   "outputs": [],
   "source": [
    "df = df[~df['ammonia'].str.contains('#NUM!')]\n",
    "df = df[~df['is_safe'].str.contains('#NUM!')]\n",
    "\n",
    "# 'ammonia' sütununu sayısal tipe dönüştür\n",
    "df['ammonia'] = pd.to_numeric(df['ammonia'], errors='coerce')\n",
    "\n",
    "# 'is_safe' sütununu sayısal tipe dönüştür (örneğin, 1 ve 0 olarak)\n",
    "df['is_safe'] = df['is_safe'].astype(int)"
   ]
  },
  {
   "cell_type": "markdown",
   "metadata": {},
   "source": [
    "eğitim ve test verilerini ayırma"
   ]
  },
  {
   "cell_type": "code",
   "execution_count": 5,
   "metadata": {},
   "outputs": [],
   "source": [
    "x = df.drop(\"is_safe\",axis=1)\n",
    "y = df['is_safe']\n",
    "\n",
    "x_train,x_test,y_train,y_test = train_test_split(x,y,test_size=0.2, random_state=42)"
   ]
  },
  {
   "cell_type": "code",
   "execution_count": 6,
   "metadata": {},
   "outputs": [
    {
     "name": "stdout",
     "output_type": "stream",
     "text": [
      "(1600, 20)\n",
      "(6396, 20)\n",
      "(6396,)\n",
      "(1600,)\n"
     ]
    }
   ],
   "source": [
    "print(x_test.shape)\n",
    "print(x_train.shape)\n",
    "print(y_train.shape)\n",
    "print(y_test.shape)"
   ]
  },
  {
   "cell_type": "markdown",
   "metadata": {},
   "source": [
    "ölçeklendirme"
   ]
  },
  {
   "cell_type": "code",
   "execution_count": 7,
   "metadata": {},
   "outputs": [],
   "source": [
    "scaler = MinMaxScaler()\n",
    "\n",
    "scaler = MinMaxScaler()\n",
    "x_train = scaler.fit_transform(x_train)\n",
    "x_test= scaler.transform(x_test)"
   ]
  },
  {
   "cell_type": "markdown",
   "metadata": {},
   "source": [
    "dense net modelinin oluşturulması"
   ]
  },
  {
   "cell_type": "code",
   "execution_count": 8,
   "metadata": {},
   "outputs": [
    {
     "name": "stdout",
     "output_type": "stream",
     "text": [
      "WARNING:tensorflow:From C:\\Users\\pc\\AppData\\Local\\Temp\\ipykernel_2528\\557077409.py:2: The name tf.disable_v2_behavior is deprecated. Please use tf.compat.v1.disable_v2_behavior instead.\n",
      "\n",
      "WARNING:tensorflow:From c:\\Users\\pc\\AppData\\Local\\Programs\\Python\\Python39\\lib\\site-packages\\tensorflow\\python\\compat\\v2_compat.py:108: disable_resource_variables (from tensorflow.python.ops.variable_scope) is deprecated and will be removed in a future version.\n",
      "Instructions for updating:\n",
      "non-resource variables are not supported in the long term\n",
      "WARNING:tensorflow:From c:\\Users\\pc\\AppData\\Local\\Programs\\Python\\Python39\\lib\\site-packages\\keras\\src\\utils\\version_utils.py:76: The name tf.executing_eagerly_outside_functions is deprecated. Please use tf.compat.v1.executing_eagerly_outside_functions instead.\n",
      "\n",
      "WARNING:tensorflow:From C:\\Users\\pc\\AppData\\Local\\Temp\\ipykernel_2528\\557077409.py:17: The name tf.train.AdamOptimizer is deprecated. Please use tf.compat.v1.train.AdamOptimizer instead.\n",
      "\n"
     ]
    }
   ],
   "source": [
    "# Compat.v1'i etkinleştirme\n",
    "tf.disable_v2_behavior()\n",
    "\n",
    "classifier = Sequential()\n",
    "\n",
    "# ilk gizli katman\n",
    "classifier.add(Dense(units=64,activation='relu', input_dim = 20))\n",
    "classifier.add(Dropout(0.5))\n",
    "\n",
    "# ikinci gizli katman\n",
    "classifier.add(Dense(units=32,activation='relu'))   \n",
    "\n",
    "# çıktı katmanı\n",
    "classifier.add(Dense(units=1,activation='sigmoid'))\n",
    "\n",
    "# Modeli derleme\n",
    "optimizer = tf.compat.v1.train.AdamOptimizer()  # tf.compat.v1.train.Optimizer'ı kullan\n",
    "\n",
    "classifier.compile(optimizer=optimizer, loss='binary_crossentropy', metrics=['accuracy'])"
   ]
  },
  {
   "cell_type": "code",
   "execution_count": 9,
   "metadata": {},
   "outputs": [
    {
     "data": {
      "image/png": "[encoded data removed]",
      "text/plain": [
       "<Figure size 640x480 with 1 Axes>"
      ]
     },
     "metadata": {},
     "output_type": "display_data"
    }
   ],
   "source": [
    "# Modelin görsel özetini al\n",
    "plot_model(classifier, to_file='model_plot_densenet_layer.png', show_shapes=True, show_layer_names=True)\n",
    "\n",
    "# Görsel özet resmini aç\n",
    "img = Image.open('model_plot_densenet_layer.png')\n",
    "\n",
    "# Yeni boyutları belirle\n",
    "new_width = 200\n",
    "new_height = 200\n",
    "\n",
    "# Resmi yeniden boyutlandır\n",
    "img_resized = img.resize((new_width, new_height))\n",
    "\n",
    "# Yeniden boyutlandırılmış resmi kaydet\n",
    "img_resized.save('model_plot_densenet_layer_resized.png')\n",
    "\n",
    "# Görsel özeti görüntüleme\n",
    "plt.imshow(img_resized)\n",
    "plt.axis('off')\n",
    "plt.show()"
   ]
  },
  {
   "cell_type": "code",
   "execution_count": 10,
   "metadata": {},
   "outputs": [
    {
     "name": "stdout",
     "output_type": "stream",
     "text": [
      "(6396, 20)\n",
      "(1600, 20)\n"
     ]
    }
   ],
   "source": [
    "print(x_train.shape)\n",
    "print(x_test.shape)"
   ]
  },
  {
   "cell_type": "code",
   "execution_count": 11,
   "metadata": {},
   "outputs": [
    {
     "name": "stdout",
     "output_type": "stream",
     "text": [
      "WARNING:tensorflow:From c:\\Users\\pc\\AppData\\Local\\Programs\\Python\\Python39\\lib\\site-packages\\keras\\src\\engine\\training_v1.py:635: The name tf.data.Iterator is deprecated. Please use tf.compat.v1.data.Iterator instead.\n",
      "\n",
      "WARNING:tensorflow:From c:\\Users\\pc\\AppData\\Local\\Programs\\Python\\Python39\\lib\\site-packages\\keras\\src\\engine\\training_utils_v1.py:50: The name tf.ragged.RaggedTensorValue is deprecated. Please use tf.compat.v1.ragged.RaggedTensorValue instead.\n",
      "\n",
      "Train on 6396 samples, validate on 1600 samples\n",
      "Epoch 1/20\n",
      "6396/6396 [==============================] - 1s 142us/sample - loss: 0.3461 - acc: 0.8863 - val_loss: 0.3012 - val_acc: 0.8756\n",
      "Epoch 2/20\n",
      " 768/6396 [==>...........................] - ETA: 0s - loss: 0.2744 - acc: 0.8906"
     ]
    },
    {
     "name": "stderr",
     "output_type": "stream",
     "text": [
      "c:\\Users\\pc\\AppData\\Local\\Programs\\Python\\Python39\\lib\\site-packages\\keras\\src\\engine\\training_v1.py:2335: UserWarning: `Model.state_updates` will be removed in a future version. This property should not be used in TensorFlow 2.0, as `updates` are applied automatically.\n",
      "  updates = self.state_updates\n"
     ]
    },
    {
     "name": "stdout",
     "output_type": "stream",
     "text": [
      "6396/6396 [==============================] - 1s 106us/sample - loss: 0.2721 - acc: 0.8923 - val_loss: 0.2738 - val_acc: 0.8900\n",
      "Epoch 3/20\n",
      "6396/6396 [==============================] - 1s 82us/sample - loss: 0.2559 - acc: 0.8993 - val_loss: 0.2611 - val_acc: 0.8969\n",
      "Epoch 4/20\n",
      "6396/6396 [==============================] - 1s 83us/sample - loss: 0.2454 - acc: 0.9054 - val_loss: 0.2515 - val_acc: 0.9069\n",
      "Epoch 5/20\n",
      "6396/6396 [==============================] - 0s 72us/sample - loss: 0.2387 - acc: 0.9093 - val_loss: 0.2451 - val_acc: 0.9025\n",
      "Epoch 6/20\n",
      "6396/6396 [==============================] - 1s 119us/sample - loss: 0.2334 - acc: 0.9112 - val_loss: 0.2387 - val_acc: 0.9038\n",
      "Epoch 7/20\n",
      "6396/6396 [==============================] - 1s 91us/sample - loss: 0.2252 - acc: 0.9142 - val_loss: 0.2233 - val_acc: 0.9106\n",
      "Epoch 8/20\n",
      "6396/6396 [==============================] - 1s 134us/sample - loss: 0.2168 - acc: 0.9157 - val_loss: 0.2180 - val_acc: 0.9137\n",
      "Epoch 9/20\n",
      "6396/6396 [==============================] - 1s 106us/sample - loss: 0.2079 - acc: 0.9207 - val_loss: 0.2046 - val_acc: 0.9181\n",
      "Epoch 10/20\n",
      "6396/6396 [==============================] - 1s 93us/sample - loss: 0.2022 - acc: 0.9199 - val_loss: 0.2067 - val_acc: 0.9131\n",
      "Epoch 11/20\n",
      "6396/6396 [==============================] - 1s 93us/sample - loss: 0.1988 - acc: 0.9217 - val_loss: 0.1938 - val_acc: 0.9175\n",
      "Epoch 12/20\n",
      "6396/6396 [==============================] - 1s 102us/sample - loss: 0.1990 - acc: 0.9207 - val_loss: 0.1925 - val_acc: 0.9187\n",
      "Epoch 13/20\n",
      "6396/6396 [==============================] - 1s 98us/sample - loss: 0.1921 - acc: 0.9248 - val_loss: 0.1834 - val_acc: 0.9237\n",
      "Epoch 14/20\n",
      "6396/6396 [==============================] - 1s 137us/sample - loss: 0.1818 - acc: 0.9278 - val_loss: 0.1819 - val_acc: 0.9231\n",
      "Epoch 15/20\n",
      "6396/6396 [==============================] - 1s 138us/sample - loss: 0.1865 - acc: 0.9278 - val_loss: 0.1730 - val_acc: 0.9275\n",
      "Epoch 16/20\n",
      "6396/6396 [==============================] - 1s 151us/sample - loss: 0.1782 - acc: 0.9325 - val_loss: 0.1712 - val_acc: 0.9281\n",
      "Epoch 17/20\n",
      "6396/6396 [==============================] - 1s 135us/sample - loss: 0.1817 - acc: 0.9254 - val_loss: 0.1660 - val_acc: 0.9319\n",
      "Epoch 18/20\n",
      "6396/6396 [==============================] - 1s 138us/sample - loss: 0.1717 - acc: 0.9339 - val_loss: 0.1668 - val_acc: 0.9306\n",
      "Epoch 19/20\n",
      "6396/6396 [==============================] - 1s 133us/sample - loss: 0.1716 - acc: 0.9325 - val_loss: 0.1607 - val_acc: 0.9325\n",
      "Epoch 20/20\n",
      "6396/6396 [==============================] - 1s 133us/sample - loss: 0.1723 - acc: 0.9331 - val_loss: 0.1591 - val_acc: 0.9356\n"
     ]
    },
    {
     "data": {
      "text/plain": [
       "<keras.src.callbacks.History at 0x20557d22280>"
      ]
     },
     "execution_count": 11,
     "metadata": {},
     "output_type": "execute_result"
    }
   ],
   "source": [
    "# Eğitim süreci\n",
    "classifier.fit(x_train, y_train, epochs=20, batch_size=32, validation_data=(x_test, y_test))"
   ]
  },
  {
   "cell_type": "code",
   "execution_count": 12,
   "metadata": {},
   "outputs": [
    {
     "name": "stderr",
     "output_type": "stream",
     "text": [
      "c:\\Users\\pc\\AppData\\Local\\Programs\\Python\\Python39\\lib\\site-packages\\keras\\src\\engine\\training_v1.py:2359: UserWarning: `Model.state_updates` will be removed in a future version. This property should not be used in TensorFlow 2.0, as `updates` are applied automatically.\n",
      "  updates=self.state_updates,\n"
     ]
    }
   ],
   "source": [
    "# Test veri seti üzerinde tahminler oluştur\n",
    "y_pred_densenet = classifier.predict(x_test)\n",
    "\n",
    "# # Tahmin sonuçlarını eşik değere göre (örneğin, 0.5) sınıflara dönüştür\n",
    "y_pred_classes = (y_pred_densenet > 0.5).astype(int)"
   ]
  },
  {
   "cell_type": "code",
   "execution_count": 13,
   "metadata": {},
   "outputs": [
    {
     "name": "stdout",
     "output_type": "stream",
     "text": [
      "Accuracy: 93.56%\n",
      "Confusion Matrix:\n",
      "[[1393    7]\n",
      " [  96  104]]\n",
      "Classification Report:\n",
      "              precision    recall  f1-score   support\n",
      "\n",
      "           0       0.94      0.99      0.96      1400\n",
      "           1       0.94      0.52      0.67       200\n",
      "\n",
      "    accuracy                           0.94      1600\n",
      "   macro avg       0.94      0.76      0.82      1600\n",
      "weighted avg       0.94      0.94      0.93      1600\n",
      "\n"
     ]
    }
   ],
   "source": [
    "# Doğruluk (Accuracy) hesapla\n",
    "accuracy_dense_net = accuracy_score(y_test, y_pred_classes)\n",
    "print(\"Accuracy: {:.2f}%\".format(accuracy_dense_net* 100))\n",
    "\n",
    "\n",
    "# Confusion matrix hesapla\n",
    "conf_matrix = confusion_matrix(y_test, y_pred_classes)\n",
    "print(\"Confusion Matrix:\")\n",
    "print(conf_matrix)\n",
    "\n",
    "# Sınıflandırma raporu (classification report) tablosunu oluştur\n",
    "class_report = classification_report(y_test, y_pred_classes)\n",
    "print(\"Classification Report:\")\n",
    "print(class_report)\n",
    "\n",
    "# Sınıflandırma raporu (classification report) tablosunu oluştur (sözlük olarak)\n",
    "class_report_dict = classification_report(y_test, y_pred_classes, output_dict=True)\n"
   ]
  },
  {
   "cell_type": "code",
   "execution_count": 14,
   "metadata": {},
   "outputs": [
    {
     "data": {
      "image/png": "[encoded data removed]",
      "text/plain": [
       "<Figure size 200x100 with 2 Axes>"
      ]
     },
     "metadata": {},
     "output_type": "display_data"
    }
   ],
   "source": [
    "# Confusion Matrix\n",
    "cm_ysa = confusion_matrix(y_test, y_pred_classes)\n",
    "\n",
    "# Heatmap oluşturma\n",
    "plt.figure(figsize=(2, 1))  # Genişlik: 6 inç, Yükseklik: 4 inç\n",
    "sns.heatmap(cm_ysa, annot=True, fmt=\"d\", cmap=\"Greys\", xticklabels=['0', '1'], yticklabels=['0', '1'])\n",
    "plt.xlabel('Tahmin Edilen')\n",
    "plt.ylabel('Gerçek')\n",
    "plt.title('Confusion Matrix')\n",
    "\n",
    "# PNG olarak kaydetme\n",
    "plt.savefig('confusion_matrix_densenet.png', bbox_inches='tight')  # bbox_inches='tight' ile gereksiz beyaz alanları kaldırır\n",
    "plt.show()"
   ]
  },
  {
   "cell_type": "markdown",
   "metadata": {},
   "source": [
    "svm"
   ]
  },
  {
   "cell_type": "code",
   "execution_count": 15,
   "metadata": {},
   "outputs": [
    {
     "name": "stdout",
     "output_type": "stream",
     "text": [
      "SVM Modeli Doğruluğu: 93.69%\n",
      "Confusion Matrix:\n",
      " [[1392    8]\n",
      " [  93  107]]\n",
      "Classification Report:\n",
      "               precision    recall  f1-score   support\n",
      "\n",
      "           0       0.94      0.99      0.96      1400\n",
      "           1       0.93      0.54      0.68       200\n",
      "\n",
      "    accuracy                           0.94      1600\n",
      "   macro avg       0.93      0.76      0.82      1600\n",
      "weighted avg       0.94      0.94      0.93      1600\n",
      "\n"
     ]
    }
   ],
   "source": [
    "# Veriyi eğitim ve test setlerine ayırma\n",
    "x_train, X_test, y_train, y_test = train_test_split(x, y, test_size=0.2, random_state=42)\n",
    "\n",
    "# Veriyi standartlaştırma\n",
    "scaler = StandardScaler()\n",
    "x_train = scaler.fit_transform(x_train)\n",
    "X_test = scaler.transform(X_test)\n",
    "\n",
    "# SVM modelini oluşturma\n",
    "svm_model = SVC(kernel='rbf', C=1.0, random_state=42)\n",
    "\n",
    "# SVM modelini eğitme\n",
    "svm_model.fit(x_train, y_train)\n",
    "\n",
    "# Test setini kullanarak tahmin yapma\n",
    "y_pred_svm_before = svm_model.predict(X_test)\n",
    "\n",
    "# Model performansını değerlendirme\n",
    "accuracy_svm = accuracy_score(y_test, y_pred_svm_before)\n",
    "print(\"SVM Modeli Doğruluğu: {:.2%}\".format(accuracy_svm))  # Yüzde olarak yazdırma\n",
    "\n",
    "# Confusion Matrix\n",
    "cm_svm = confusion_matrix(y_test, y_pred_svm_before)\n",
    "print(\"Confusion Matrix:\\n\", cm_svm)\n",
    "\n",
    "# Classification Report\n",
    "report_svm = classification_report(y_test,y_pred_svm_before)\n",
    "print(\"Classification Report:\\n\", report_svm)\n"
   ]
  },
  {
   "cell_type": "code",
   "execution_count": 16,
   "metadata": {},
   "outputs": [
    {
     "data": {
      "image/png": "[encoded data removed]",
      "text/plain": [
       "<Figure size 200x100 with 2 Axes>"
      ]
     },
     "metadata": {},
     "output_type": "display_data"
    }
   ],
   "source": [
    "# Confusion Matrix\n",
    "cm_svm = confusion_matrix(y_test, y_pred_svm_before)\n",
    "\n",
    "# Heatmap oluşturma\n",
    "plt.figure(figsize=(2, 1))  # Genişlik: 6 inç, Yükseklik: 4 inç\n",
    "sns.heatmap(cm_svm, annot=True, fmt=\"d\", cmap=\"gray\", xticklabels=['0', '1'], yticklabels=['0', '1'])\n",
    "plt.xlabel('Tahmin Edilen')\n",
    "plt.ylabel('Gerçek')\n",
    "plt.title('SVM Confusion Matrix')\n",
    "\n",
    "# PNG olarak kaydetme\n",
    "plt.savefig('confusion_matrix_svm.png', bbox_inches='tight', dpi=300)  # bbox_inches='tight' ile gereksiz beyaz alanları kaldırır\n",
    "plt.show()"
   ]
  },
  {
   "cell_type": "markdown",
   "metadata": {},
   "source": [
    "knn"
   ]
  },
  {
   "cell_type": "code",
   "execution_count": 17,
   "metadata": {},
   "outputs": [
    {
     "name": "stdout",
     "output_type": "stream",
     "text": [
      "KNN Modeli Doğruluğu: 90.19%\n",
      "Confusion Matrix:\n",
      "[[1393    7]\n",
      " [ 150   50]]\n",
      "Classification Report:\n",
      "              precision    recall  f1-score   support\n",
      "\n",
      "           0       0.90      0.99      0.95      1400\n",
      "           1       0.88      0.25      0.39       200\n",
      "\n",
      "    accuracy                           0.90      1600\n",
      "   macro avg       0.89      0.62      0.67      1600\n",
      "weighted avg       0.90      0.90      0.88      1600\n",
      "\n",
      "Cross-Validation Sonuçları: [0.9109375  0.91477717 0.90774042 0.91399531 0.91399531]\n",
      "Ortalama Doğruluk: 0.9122891419077404\n"
     ]
    }
   ],
   "source": [
    "# Veriyi eğitim ve test setlerine ayırma\n",
    "x_train, X_test, y_train, y_test = train_test_split(x, y, test_size=0.2, random_state=42)\n",
    "\n",
    "# Veriyi standartlaştırma (KNN genellikle ölçeklendirmeye duyarlıdır)\n",
    "scaler = StandardScaler()\n",
    "x_train_scaled = scaler.fit_transform(x_train)\n",
    "X_test_scaled = scaler.transform(X_test)\n",
    "\n",
    "# KNN modelini oluşturma\n",
    "knn_model = KNeighborsClassifier(n_neighbors=10)\n",
    "\n",
    "# Modeli eğitme\n",
    "knn_model.fit(x_train_scaled, y_train)\n",
    "\n",
    "# Test seti üzerinde tahmin yapma\n",
    "y_pred_knn = knn_model.predict(X_test_scaled)\n",
    "\n",
    "# Model performansını değerlendirme\n",
    "accuracy_knn = accuracy_score(y_test, y_pred_knn)\n",
    "conf_matrix = confusion_matrix(y_test, y_pred_knn)\n",
    "class_report = classification_report(y_test, y_pred_knn)\n",
    "\n",
    "# Sonuçları yazdırma\n",
    "print(\"KNN Modeli Doğruluğu: {:.2%}\".format(accuracy_knn))\n",
    "print(\"Confusion Matrix:\")\n",
    "print(conf_matrix)\n",
    "print(\"Classification Report:\")\n",
    "print(class_report)\n",
    "\n",
    "# Cross-validation ile model performansını daha güvenilir bir şekilde değerlendirme\n",
    "cv_results = cross_val_score(knn_model, x_train_scaled, y_train, cv=5, scoring='accuracy')\n",
    "print(\"Cross-Validation Sonuçları:\", cv_results)\n",
    "print(\"Ortalama Doğruluk:\", cv_results.mean())"
   ]
  },
  {
   "cell_type": "code",
   "execution_count": 18,
   "metadata": {},
   "outputs": [
    {
     "data": {
      "image/png": "[encoded data removed]",
      "text/plain": [
       "<Figure size 200x100 with 1 Axes>"
      ]
     },
     "metadata": {},
     "output_type": "display_data"
    }
   ],
   "source": [
    "# Confusion Matrix\n",
    "cm_knn = confusion_matrix(y_test, y_pred_knn)\n",
    "\n",
    "# Heatmap oluşturma\n",
    "plt.figure(figsize=(2, 1))\n",
    "sns.heatmap(cm_knn, annot=True, fmt='d', cmap='Greys', cbar=False,\n",
    "            xticklabels=['0', '1'], yticklabels=['0', '1'])\n",
    "plt.title('Confusion Matrix - KNN Model')\n",
    "plt.xlabel('Predicted')\n",
    "plt.ylabel('True')\n",
    "\n",
    "# PNG olarak kaydetme\n",
    "plt.savefig('confusion_matrix_knn.png')\n",
    "plt.show()"
   ]
  },
  {
   "cell_type": "markdown",
   "metadata": {},
   "source": [
    "karşılaştırma"
   ]
  },
  {
   "cell_type": "code",
   "execution_count": 19,
   "metadata": {},
   "outputs": [
    {
     "data": {
      "image/png": "[encoded data removed]",
      "text/plain": [
       "<Figure size 400x200 with 1 Axes>"
      ]
     },
     "metadata": {},
     "output_type": "display_data"
    }
   ],
   "source": [
    "# Model isimleri\n",
    "model_isimleri = ['SVM', 'KNN', 'DenseNet']\n",
    "\n",
    "# Model doğruluk skorları\n",
    "accuracy_scores = [accuracy_svm, accuracy_knn, accuracy_dense_net]\n",
    "\n",
    "# Gri tonları renk paleti\n",
    "gray_palette = ['lightgray', 'darkgray', 'dimgray']\n",
    "\n",
    "# Çubuk grafik oluşturma\n",
    "plt.figure(figsize=(4, 2))\n",
    "plt.bar(model_isimleri, accuracy_scores, color=gray_palette)\n",
    "plt.ylim(0, 1)  # Y eksenini 0 ile 1 arasında sınırla\n",
    "plt.title('Model Performansı - Doğruluk Skorları')\n",
    "plt.xlabel('Modeller')\n",
    "plt.ylabel('Doğruluk Skoru')\n",
    "\n",
    "# PNG olarak kaydetme\n",
    "plt.savefig('model_performance.png')\n",
    "plt.show()"
   ]
  }
 ],
 "metadata": {
  "kernelspec": {
   "display_name": "Python 3",
   "language": "python",
   "name": "python3"
  },
  "language_info": {
   "codemirror_mode": {
    "name": "ipython",
    "version": 3
   },
   "file_extension": ".py",
   "mimetype": "text/x-python",
   "name": "python",
   "nbconvert_exporter": "python",
   "pygments_lexer": "ipython3",
   "version": "3.9.7"
  }
 },
 "nbformat": 4,
 "nbformat_minor": 2
}
